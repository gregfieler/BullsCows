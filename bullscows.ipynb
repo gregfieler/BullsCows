{
 "metadata": {
  "language_info": {
   "codemirror_mode": {
    "name": "ipython",
    "version": 3
   },
   "file_extension": ".py",
   "mimetype": "text/x-python",
   "name": "python",
   "nbconvert_exporter": "python",
   "pygments_lexer": "ipython3",
   "version": "3.8.5"
  },
  "orig_nbformat": 2,
  "kernelspec": {
   "name": "python385jvsc74a57bd0aee8b7b246df8f9039afb4144a1f6fd8d2ca17a180786b69acc140d282b71a49",
   "display_name": "Python 3.8.5 64-bit"
  },
  "metadata": {
   "interpreter": {
    "hash": "aee8b7b246df8f9039afb4144a1f6fd8d2ca17a180786b69acc140d282b71a49"
   }
  }
 },
 "nbformat": 4,
 "nbformat_minor": 2,
 "cells": [
  {
   "cell_type": "code",
   "execution_count": null,
   "metadata": {},
   "outputs": [],
   "source": [
    "# Using this workbook:\n",
    "\n",
    "For interactive testing execute the first block to get things set up then use the next block to test different ideas for functions by replacing the function being worked on.\n",
    "\n",
    "For simplicity I just copied the entire script and split it into two cells."
   ]
  },
  {
   "cell_type": "code",
   "execution_count": 2,
   "metadata": {},
   "outputs": [],
   "source": [
    "%load bullscows.py\n"
   ]
  },
  {
   "cell_type": "code",
   "execution_count": 3,
   "metadata": {},
   "outputs": [
    {
     "output_type": "error",
     "ename": "NameError",
     "evalue": "name 'setup_dataframe' is not defined",
     "traceback": [
      "\u001b[0;31m---------------------------------------------------------------------------\u001b[0m",
      "\u001b[0;31mNameError\u001b[0m                                 Traceback (most recent call last)",
      "\u001b[0;32m<ipython-input-3-6613ed439c63>\u001b[0m in \u001b[0;36m<module>\u001b[0;34m\u001b[0m\n\u001b[0;32m----> 1\u001b[0;31m \u001b[0msetup_dataframe\u001b[0m\u001b[0;34m(\u001b[0m\u001b[0;34m)\u001b[0m\u001b[0;34m\u001b[0m\u001b[0;34m\u001b[0m\u001b[0m\n\u001b[0m",
      "\u001b[0;31mNameError\u001b[0m: name 'setup_dataframe' is not defined"
     ]
    }
   ],
   "source": [
    "setup_dataframe()"
   ]
  },
  {
   "cell_type": "code",
   "execution_count": null,
   "metadata": {},
   "outputs": [],
   "source": [
    "\"\"\"\n",
    "for the notebook first cell copies all of the imports and functions - \n",
    "\n",
    "make changes here and below to interactively test changes\n",
    "\n",
    "\"\"\"\n",
    "if __name__ == \"__main__\":\n",
    "  #todo - change logging to use answer as part of filename\n",
    "  logging.basicConfig(filename='bullsandcows.log', level=logging.INFO)\n",
    "  logging.info(\"main: game: {} x {}, factors: bull {}, cow {}, all {}, seed: {}\"\\\n",
    "    .format(cfg.game_posistions,cfg.guess_range,cfg.bulls_weight,cfg.cows_weight,cfg.all_factor,cfg.random_seed))\n",
    "  if cfg.debug:\n",
    "      game_positions = cfg.game_posistions # big test is 5x10\n",
    "      guess_range = cfg.guess_range\n",
    "  else:\n",
    "      game_positions = int(input(\"how many positions? \"))\n",
    "      guess_range = int(input(\"how many choices? \"))\n",
    "        \n",
    "  permutations = cfg.guess_range ** cfg.game_posistions\n",
    "  print(\"\\nthere are {} possible answers\\n\".format(permutations))\n",
    "  # add a lookup with how many guesses this program usually takes or you should be able to solve this in x\n",
    "  # todo   add logging for config info to use in stats  - day time  - maybe game id??\n",
    "\n",
    "# try_again = True\n",
    "# while try_again:\n",
    "for i in range(5):  # todo  bigtodo  need to reset stuff \n",
    "  answer = random_answer()\n",
    "  logging.info(\"main: answer: {}\".format(answer))\n",
    "  clue_counts = {\"clue_bulls0\":0,\"clue_bulls0cows0\":0,\"clue_bullsX\":0,\"clue_bulls0cowsA\":0,\"c_bullscowsA\":0}\n",
    "  guess_counts = {\"guesses_generated\":0,\"duplicate_guesses\":0,\"inconsistent_guesses\":0 }\n",
    "  guess_position_matrix = setup_dataframe()\n",
    "  guesses_clues = []\n",
    "  inconsistent_guess_list = []\n",
    "  all_in_answer = []\n",
    "  getting_close = False\n",
    "  correct_guess = False\n",
    "  guess = []\n",
    "  if cfg.debug:\n",
    "    seed_first_guess_for_stats = True \n",
    "  while not correct_guess:\n",
    "    if seed_first_guess_for_stats:\n",
    "      seed_first_guess_for_stats = False\n",
    "      for g in range(game_positions): \n",
    "        guess.append(g)\n",
    "    else:\n",
    "      guess = generate_best_guess()\n",
    "    clue = generate_clue(answer, guess)\n",
    "    guesses_clues.append([guess, clue])\n",
    "    logging.debug(\"main: guess {}: {} bulls: {}  cows: {}\".format(len(guesses_clues),guess, clue[0], clue[1]))\n",
    "    if clue[0] == game_positions:\n",
    "      print(\"\\nyou got it!  it took you {} tries\\n\".format(len(guesses_clues)))\n",
    "      print(\"game review\\n {}\".format(tabulate(guesses_clues, headers=[\"guess\", \"clue\"])))\n",
    "      logging.info(\"final guesses ({}) clues list {}\".format(len(guesses_clues),guesses_clues))\n",
    "      logging.info(\"clue counts {}\".format(clue_counts))\n",
    "      logging.info(\"guess counts {}\".format(guess_counts))\n",
    "      logging.info(\"final matrix \\n{}\".format(guess_position_matrix))\n",
    "      correct_guess = True\n",
    "    else:\n",
    "      all_in_answer, getting_close = process_clue()\n",
    "\n",
    "  try_again = False"
   ]
  }
 ]
}