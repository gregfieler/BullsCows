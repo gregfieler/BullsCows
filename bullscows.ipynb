{
 "metadata": {
  "language_info": {
   "codemirror_mode": {
    "name": "ipython",
    "version": 3
   },
   "file_extension": ".py",
   "mimetype": "text/x-python",
   "name": "python",
   "nbconvert_exporter": "python",
   "pygments_lexer": "ipython3",
   "version": "3.8.5"
  },
  "orig_nbformat": 2,
  "kernelspec": {
   "name": "python385jvsc74a57bd0aee8b7b246df8f9039afb4144a1f6fd8d2ca17a180786b69acc140d282b71a49",
   "display_name": "Python 3.8.5 64-bit"
  },
  "metadata": {
   "interpreter": {
    "hash": "aee8b7b246df8f9039afb4144a1f6fd8d2ca17a180786b69acc140d282b71a49"
   }
  }
 },
 "nbformat": 4,
 "nbformat_minor": 2,
 "cells": [
  {
   "cell_type": "code",
   "execution_count": null,
   "metadata": {},
   "outputs": [],
   "source": [
    "# Using this workbook:\n",
    "\n",
    "For interactive testing execute the first block to get things set up then use the next block to test different ideas for functions by replacing the function being worked on.\n",
    "\n",
    "For simplicity I just copied the entire script and split it into two cells."
   ]
  },
  {
   "cell_type": "code",
   "execution_count": 1,
   "metadata": {},
   "outputs": [],
   "source": [
    "import pandas as pd\n",
    "\n",
    "stats = pd.read_csv('bullscowsstats.csv')\n",
    "\n"
   ]
  },
  {
   "cell_type": "code",
   "execution_count": 2,
   "metadata": {},
   "outputs": [
    {
     "output_type": "stream",
     "name": "stdout",
     "text": [
      "                 gametime    player  positions  range           answer  \\\n0     2021/05/12 16:07:13  computer          3     15       [0, 12, 5]   \n1     2021/05/12 16:08:26  computer          3     15       [0, 12, 5]   \n2     2021/05/12 16:10:27  computer          4      7     [0, 4, 5, 1]   \n3     2021/05/12 16:10:45  computer          4      7     [0, 4, 5, 1]   \n4     2021/05/12 16:11:10  computer          4      7     [0, 4, 5, 1]   \n...                   ...       ...        ...    ...              ...   \n2467  2021/05/13 15:23:50  computer          4      7     [0, 4, 5, 1]   \n2468  2021/05/13 15:23:52  computer          4      7     [0, 4, 5, 1]   \n2469  2021/05/13 15:29:00  computer          4      7     [0, 4, 5, 1]   \n2470  2021/05/13 15:35:39  computer          4      7     [0, 4, 5, 1]   \n2471  2021/05/13 15:42:28  computer          5      7  [0, 4, 5, 1, 0]   \n\n      guesses  bull_weight  cow_weight  all_factor  guesses_generated  \\\n0           9          0.5         0.3         0.5                604   \n1          11          0.5         0.3         0.5               1280   \n2           5          0.5         0.3         0.5               5076   \n3           5          0.5         0.3         0.5                511   \n4           6          0.5         0.3         0.5                541   \n...       ...          ...         ...         ...                ...   \n2467        5          0.7         0.3         0.5               1662   \n2468        5          0.7         0.3         0.5                198   \n2469        5          0.7         0.3         0.5                 61   \n2470        6          0.7         0.3         0.5                329   \n2471        6          0.7         0.3         0.5               5909   \n\n      duplicate_guesses  inconsistent_guesses  clue_blulls0  clue_bulls0cows0  \\\n0                     1                  2464             1                 1   \n1                    13                  7591             0                 1   \n2                     8                 13953             0                 0   \n3                     3                  1623             1                 0   \n4                     5                  1596             2                 0   \n...                 ...                   ...           ...               ...   \n2467                  3                  1658             0                 0   \n2468                  1                   193             1                 0   \n2469                  0                    57             1                 1   \n2470                  5                   321             1                 1   \n2471                  0                  5904             2                 0   \n\n      clue_bullsX  clue_bulls0cowsA  c_bullscowsA  \n0               6                 0             0  \n1               9                 0             0  \n2               4                 0             0  \n3               3                 0             0  \n4               3                 0             1  \n...           ...               ...           ...  \n2467            4                 0             0  \n2468            3                 0             0  \n2469            2                 0             1  \n2470            3                 0             2  \n2471            3                 0             0  \n\n[2472 rows x 17 columns]\n"
     ]
    }
   ],
   "source": [
    "print(stats)"
   ]
  },
  {
   "cell_type": "code",
   "execution_count": 6,
   "metadata": {},
   "outputs": [
    {
     "output_type": "stream",
     "name": "stdout",
     "text": [
      "                 gametime    player  positions  range        answer  guesses  \\\n2     2021/05/12 16:10:27  computer          4      7  [0, 4, 5, 1]        5   \n3     2021/05/12 16:10:45  computer          4      7  [0, 4, 5, 1]        5   \n4     2021/05/12 16:11:10  computer          4      7  [0, 4, 5, 1]        6   \n5     2021/05/12 16:11:22  computer          4      7  [0, 4, 5, 1]        5   \n6     2021/05/12 16:11:35  computer          4      7  [0, 4, 5, 1]        6   \n...                   ...       ...        ...    ...           ...      ...   \n2466  2021/05/13 15:23:32  computer          4      7  [0, 4, 5, 1]        5   \n2467  2021/05/13 15:23:50  computer          4      7  [0, 4, 5, 1]        5   \n2468  2021/05/13 15:23:52  computer          4      7  [0, 4, 5, 1]        5   \n2469  2021/05/13 15:29:00  computer          4      7  [0, 4, 5, 1]        5   \n2470  2021/05/13 15:35:39  computer          4      7  [0, 4, 5, 1]        6   \n\n      bull_weight  cow_weight  all_factor  guesses_generated  \\\n2             0.5         0.3         0.5               5076   \n3             0.5         0.3         0.5                511   \n4             0.5         0.3         0.5                541   \n5             0.5         0.3         0.5                 67   \n6             0.5         0.3         0.5                759   \n...           ...         ...         ...                ...   \n2466          0.7         0.3         0.5                818   \n2467          0.7         0.3         0.5               1662   \n2468          0.7         0.3         0.5                198   \n2469          0.7         0.3         0.5                 61   \n2470          0.7         0.3         0.5                329   \n\n      duplicate_guesses  inconsistent_guesses  clue_blulls0  clue_bulls0cows0  \\\n2                     8                 13953             0                 0   \n3                     3                  1623             1                 0   \n4                     5                  1596             2                 0   \n5                     0                   174             1                 0   \n6                     5                  2698             1                 0   \n...                 ...                   ...           ...               ...   \n2466                  2                   812             1                 0   \n2467                  3                  1658             0                 0   \n2468                  1                   193             1                 0   \n2469                  0                    57             1                 1   \n2470                  5                   321             1                 1   \n\n      clue_bullsX  clue_bulls0cowsA  c_bullscowsA  \n2               4                 0             0  \n3               3                 0             0  \n4               3                 0             1  \n5               3                 0             0  \n6               4                 0             1  \n...           ...               ...           ...  \n2466            3                 0             0  \n2467            4                 0             0  \n2468            3                 0             0  \n2469            2                 0             1  \n2470            3                 0             2  \n\n[913 rows x 17 columns]\n"
     ]
    }
   ],
   "source": [
    "dice_df_4x7 = stats[(stats[\"range\"] == 7) & (stats[\"positions\"] == 4)]\n",
    "print(dice_df_4x7)\n"
   ]
  },
  {
   "cell_type": "code",
   "execution_count": 9,
   "metadata": {},
   "outputs": [
    {
     "output_type": "stream",
     "name": "stdout",
     "text": [
      "average guesses: 5.056955093099671\n"
     ]
    }
   ],
   "source": [
    "avggs = dice_df_4x7['guesses'].mean() \n",
    "print(\"average guesses: {}\".format(avggs))"
   ]
  },
  {
   "cell_type": "code",
   "execution_count": 34,
   "metadata": {},
   "outputs": [
    {
     "output_type": "stream",
     "name": "stdout",
     "text": [
      "                                  range   guesses  all_factor  \\\npositions bull_weight cow_weight                                \n2         0.5         0.3           7.0  4.455000         0.5   \n3         0.5         0.3           7.0  4.524444         0.5   \n                      0.5           7.0  4.453333         0.5   \n          0.7         0.3           7.0  4.373333         0.5   \n4         0.5         0.3           7.0  5.027451         0.5   \n                      0.5           7.0  4.985000         0.5   \n          0.7         0.3           7.0  5.104803         0.5   \n5         0.5         0.3           7.0  5.533898         0.5   \n          0.7         0.3           7.0  5.545455         0.5   \n6         0.5         0.3           7.0  5.916667         0.5   \n\n                                  guesses_generated  duplicate_guesses  \\\npositions bull_weight cow_weight                                         \n2         0.5         0.3                 18.020000           1.465000   \n3         0.5         0.3                 47.260000           1.660000   \n                      0.5                 29.906667           1.796667   \n          0.7         0.3                 29.446667           1.536667   \n4         0.5         0.3                901.211765           2.392157   \n                      0.5                864.345000           2.740000   \n          0.7         0.3                723.408297           2.058952   \n5         0.5         0.3               4894.601695           2.686441   \n          0.7         0.3               3694.518182           2.618182   \n6         0.5         0.3              20862.041667           2.958333   \n\n                                  inconsistent_guesses  clue_blulls0  \\\npositions bull_weight cow_weight                                       \n2         0.5         0.3                    34.015000      0.485000   \n3         0.5         0.3                    95.393333      0.593333   \n                      0.5                    48.990000      0.590000   \n          0.7         0.3                    24.950000      0.526667   \n4         0.5         0.3                  2771.831373      1.027451   \n                      0.5                  2644.820000      0.580000   \n          0.7         0.3                  1055.072052      1.281659   \n5         0.5         0.3                 17993.915254      0.855932   \n          0.7         0.3                 12817.581818      0.972727   \n6         0.5         0.3                 88135.083333      0.750000   \n\n                                  clue_bulls0cows0  clue_bullsX  \\\npositions bull_weight cow_weight                                  \n2         0.5         0.3                 1.265000     1.705000   \n3         0.5         0.3                 1.073333     1.857778   \n                      0.5                 1.213333     1.650000   \n          0.7         0.3                 1.213333     1.633333   \n4         0.5         0.3                 0.094118     2.905882   \n                      0.5                 0.215000     3.190000   \n          0.7         0.3                 0.067686     2.755459   \n5         0.5         0.3                 0.084746     3.593220   \n          0.7         0.3                 0.054545     3.518182   \n6         0.5         0.3                 0.000000     4.166667   \n\n                                  clue_bulls0cowsA  c_bullscowsA  \npositions bull_weight cow_weight                                  \n2         0.5         0.3                 0.120000      0.120000  \n3         0.5         0.3                 0.000000      0.231111  \n                      0.5                 0.000000      0.213333  \n          0.7         0.3                 0.000000      0.250000  \n4         0.5         0.3                 0.023529      0.227451  \n                      0.5                 0.000000      0.095000  \n          0.7         0.3                 0.050218      0.281659  \n5         0.5         0.3                 0.016949      0.262712  \n          0.7         0.3                 0.054545      0.390909  \n6         0.5         0.3                 0.041667      0.416667  \n"
     ]
    }
   ],
   "source": [
    "grpavg = stats[(stats[\"range\"] == 7) & (stats[\"player\"] == 'computer')].groupby([\"positions\",\"bull_weight\",\"cow_weight\"]).mean()\n",
    "print(grpavg)\n"
   ]
  },
  {
   "cell_type": "code",
   "execution_count": 14,
   "metadata": {},
   "outputs": [
    {
     "output_type": "stream",
     "name": "stderr",
     "text": [
      "Matplotlib is building the font cache; this may take a moment.\n",
      "Using matplotlib backend: MacOSX\n"
     ]
    }
   ],
   "source": [
    "%matplotlib"
   ]
  },
  {
   "cell_type": "code",
   "execution_count": 15,
   "metadata": {},
   "outputs": [
    {
     "output_type": "execute_result",
     "data": {
      "text/plain": [
       "<AxesSubplot:xlabel='positions'>"
      ]
     },
     "metadata": {},
     "execution_count": 15
    }
   ],
   "source": [
    "grpavg.plot()"
   ]
  },
  {
   "cell_type": "code",
   "execution_count": 20,
   "metadata": {},
   "outputs": [
    {
     "output_type": "stream",
     "name": "stdout",
     "text": [
      "            range                                    guesses            ...  \\\n            count mean  std  min  25%  50%  75%  max   count      mean  ...   \npositions                                                               ...   \n2           200.0  7.0  0.0  7.0  7.0  7.0  7.0  7.0   200.0  4.455000  ...   \n3          1050.0  7.0  0.0  7.0  7.0  7.0  7.0  7.0  1050.0  4.460952  ...   \n4           913.0  7.0  0.0  7.0  7.0  7.0  7.0  7.0   913.0  5.056955  ...   \n5           228.0  7.0  0.0  7.0  7.0  7.0  7.0  7.0   228.0  5.539474  ...   \n6            24.0  7.0  0.0  7.0  7.0  7.0  7.0  7.0    24.0  5.916667  ...   \n\n          clue_bulls0cowsA      c_bullscowsA                                \\\n                       75%  max        count      mean       std  min  25%   \npositions                                                                    \n2                      0.0  1.0        200.0  0.120000  0.325777  0.0  0.0   \n3                      0.0  0.0       1050.0  0.231429  0.508050  0.0  0.0   \n4                      0.0  1.0        913.0  0.225630  0.477016  0.0  0.0   \n5                      0.0  1.0        228.0  0.324561  0.600963  0.0  0.0   \n6                      0.0  1.0         24.0  0.416667  0.583592  0.0  0.0   \n\n                          \n           50%  75%  max  \npositions                 \n2          0.0  0.0  1.0  \n3          0.0  0.0  2.0  \n4          0.0  0.0  3.0  \n5          0.0  1.0  3.0  \n6          0.0  1.0  2.0  \n\n[5 rows x 104 columns]\n"
     ]
    }
   ],
   "source": [
    "print(stats[(stats[\"range\"] == 7)].groupby(\"positions\").describe())"
   ]
  },
  {
   "cell_type": "code",
   "execution_count": 19,
   "metadata": {},
   "outputs": [
    {
     "output_type": "stream",
     "name": "stdout",
     "text": [
      "           range   guesses  bull_weight  cow_weight  all_factor  \\\npositions                                                         \n2            7.0  4.455000     0.500000    0.300000         0.5   \n3            7.0  4.460952     0.557143    0.357143         0.5   \n4            7.0  5.056955     0.600329    0.343812         0.5   \n5            7.0  5.539474     0.596491    0.300000         0.5   \n6            7.0  5.916667     0.500000    0.300000         0.5   \n\n           guesses_generated  duplicate_guesses  inconsistent_guesses  \\\npositions                                                               \n2                  18.020000           1.465000             34.015000   \n3                  37.212381           1.663810             62.008571   \n4                 803.941950           2.301205           1882.808324   \n5                4315.614035           2.653509          15496.561404   \n6               20862.041667           2.958333          88135.083333   \n\n           clue_blulls0  clue_bulls0cows0  clue_bullsX  clue_bulls0cowsA  \\\npositions                                                                  \n2              0.485000          1.265000     1.705000          0.120000   \n3              0.573333          1.153333     1.734286          0.000000   \n4              1.056955          0.107338     2.892662          0.031763   \n5              0.912281          0.070175     3.557018          0.035088   \n6              0.750000          0.000000     4.166667          0.041667   \n\n           c_bullscowsA  \npositions                \n2              0.120000  \n3              0.231429  \n4              0.225630  \n5              0.324561  \n6              0.416667  \n"
     ]
    }
   ],
   "source": [
    "print(stats[(stats[\"range\"] == 7)].groupby(\"positions\").mean())"
   ]
  },
  {
   "cell_type": "code",
   "execution_count": 8,
   "metadata": {},
   "outputs": [
    {
     "output_type": "stream",
     "name": "stdout",
     "text": [
      "       positions  range     guesses  bull_weight  cow_weight  all_factor  \\\ncount      913.0  913.0  913.000000   913.000000  913.000000       913.0   \nmean         4.0    7.0    5.056955     0.600329    0.343812         0.5   \nstd          0.0    0.0    0.880489     0.100054    0.082767         0.0   \nmin          4.0    7.0    2.000000     0.500000    0.300000         0.5   \n25%          4.0    7.0    5.000000     0.500000    0.300000         0.5   \n50%          4.0    7.0    5.000000     0.700000    0.300000         0.5   \n75%          4.0    7.0    6.000000     0.700000    0.300000         0.5   \nmax          4.0    7.0    8.000000     0.700000    0.500000         0.5   \n\n       guesses_generated  duplicate_guesses  inconsistent_guesses  \\\ncount         913.000000         913.000000            913.000000   \nmean          803.941950           2.301205           1882.808324   \nstd          1103.996251           3.240737           3046.103964   \nmin             1.000000           0.000000              0.000000   \n25%           148.000000           0.000000            221.000000   \n50%           417.000000           1.000000            734.000000   \n75%          1010.000000           3.000000           2185.000000   \nmax          9327.000000          31.000000          30733.000000   \n\n       clue_blulls0  clue_bulls0cows0  clue_bullsX  clue_bulls0cowsA  \\\ncount    913.000000        913.000000   913.000000        913.000000   \nmean       1.056955          0.107338     2.892662          0.031763   \nstd        0.892856          0.316714     1.003000          0.175466   \nmin        0.000000          0.000000     0.000000          0.000000   \n25%        0.000000          0.000000     2.000000          0.000000   \n50%        1.000000          0.000000     3.000000          0.000000   \n75%        2.000000          0.000000     4.000000          0.000000   \nmax        4.000000          2.000000     7.000000          1.000000   \n\n       c_bullscowsA  \ncount    913.000000  \nmean       0.225630  \nstd        0.477016  \nmin        0.000000  \n25%        0.000000  \n50%        0.000000  \n75%        0.000000  \nmax        3.000000  \n"
     ]
    }
   ],
   "source": [
    "print(stats[(stats[\"range\"] == 7) & (stats[\"positions\"] == 4)].describe())\n"
   ]
  },
  {
   "cell_type": "code",
   "execution_count": 7,
   "metadata": {},
   "outputs": [
    {
     "output_type": "stream",
     "name": "stdout",
     "text": [
      "       positions  range     guesses  bull_weight  cow_weight  all_factor  \\\ncount      913.0  913.0  913.000000   913.000000  913.000000       913.0   \nmean         4.0    7.0    5.056955     0.600329    0.343812         0.5   \nstd          0.0    0.0    0.880489     0.100054    0.082767         0.0   \nmin          4.0    7.0    2.000000     0.500000    0.300000         0.5   \n25%          4.0    7.0    5.000000     0.500000    0.300000         0.5   \n50%          4.0    7.0    5.000000     0.700000    0.300000         0.5   \n75%          4.0    7.0    6.000000     0.700000    0.300000         0.5   \nmax          4.0    7.0    8.000000     0.700000    0.500000         0.5   \n\n       guesses_generated  duplicate_guesses  inconsistent_guesses  \\\ncount         913.000000         913.000000            913.000000   \nmean          803.941950           2.301205           1882.808324   \nstd          1103.996251           3.240737           3046.103964   \nmin             1.000000           0.000000              0.000000   \n25%           148.000000           0.000000            221.000000   \n50%           417.000000           1.000000            734.000000   \n75%          1010.000000           3.000000           2185.000000   \nmax          9327.000000          31.000000          30733.000000   \n\n       clue_blulls0  clue_bulls0cows0  clue_bullsX  clue_bulls0cowsA  \\\ncount    913.000000        913.000000   913.000000        913.000000   \nmean       1.056955          0.107338     2.892662          0.031763   \nstd        0.892856          0.316714     1.003000          0.175466   \nmin        0.000000          0.000000     0.000000          0.000000   \n25%        0.000000          0.000000     2.000000          0.000000   \n50%        1.000000          0.000000     3.000000          0.000000   \n75%        2.000000          0.000000     4.000000          0.000000   \nmax        4.000000          2.000000     7.000000          1.000000   \n\n       c_bullscowsA  \ncount    913.000000  \nmean       0.225630  \nstd        0.477016  \nmin        0.000000  \n25%        0.000000  \n50%        0.000000  \n75%        0.000000  \nmax        3.000000  \n"
     ]
    }
   ],
   "source": [
    "print(dice_df_4x7.describe())\n"
   ]
  },
  {
   "cell_type": "code",
   "execution_count": 5,
   "metadata": {},
   "outputs": [
    {
     "output_type": "stream",
     "name": "stdout",
     "text": [
      "[['2021/05/12 16:10:27' 'computer' 4 ... 4 0 0]\n ['2021/05/12 16:10:45' 'computer' 4 ... 3 0 0]\n ['2021/05/12 16:11:10' 'computer' 4 ... 3 0 1]\n ...\n ['2021/05/13 15:23:52' 'computer' 4 ... 3 0 0]\n ['2021/05/13 15:29:00' 'computer' 4 ... 2 0 1]\n ['2021/05/13 15:35:39' 'computer' 4 ... 3 0 2]]\n"
     ]
    }
   ],
   "source": [
    "print(dice_df_4x7)\n"
   ]
  },
  {
   "cell_type": "code",
   "execution_count": null,
   "metadata": {},
   "outputs": [],
   "source": []
  }
 ]
}